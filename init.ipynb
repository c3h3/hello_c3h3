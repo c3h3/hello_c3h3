{
 "metadata": {
  "name": "init"
 }, 
 "nbformat": 2, 
 "worksheets": [
  {
   "cells": [
    {
     "cell_type": "markdown", 
     "source": [
      "Chapter1"
     ]
    }, 
    {
     "cell_type": "markdown", 
     "source": [
      "Chapter 2"
     ]
    }
   ]
  }
 ]
}